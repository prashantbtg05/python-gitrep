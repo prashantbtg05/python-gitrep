{
 "cells": [
  {
   "cell_type": "code",
   "execution_count": 2,
   "metadata": {},
   "outputs": [],
   "source": [
    "import pandas as pd\n",
    "import numpy as np"
   ]
  },
  {
   "cell_type": "code",
   "execution_count": null,
   "metadata": {},
   "outputs": [],
   "source": [
    "car_df = pd.read_csv('cars_mk2.csv')"
   ]
  },
  {
   "cell_type": "code",
   "execution_count": null,
   "metadata": {},
   "outputs": [],
   "source": [
    "car_df"
   ]
  },
  {
   "cell_type": "code",
   "execution_count": null,
   "metadata": {},
   "outputs": [],
   "source": [
    "#Adding calumn by setting scalar\n",
    "car_df['Engine'] = '1200CC'"
   ]
  },
  {
   "cell_type": "code",
   "execution_count": null,
   "metadata": {},
   "outputs": [],
   "source": [
    "\n",
    "car_df"
   ]
  },
  {
   "cell_type": "code",
   "execution_count": null,
   "metadata": {},
   "outputs": [],
   "source": [
    "#Adding calumn by setting list as a new column\n",
    "car_df['Engine'] = ['1199CC' , '1300CC' , '1275CC' , '1145CC' ,'1650CC']"
   ]
  },
  {
   "cell_type": "code",
   "execution_count": null,
   "metadata": {},
   "outputs": [],
   "source": [
    "car_df"
   ]
  },
  {
   "cell_type": "code",
   "execution_count": null,
   "metadata": {},
   "outputs": [],
   "source": [
    "#deleting a cloumn\n",
    "del car_df['Engine']\n",
    "car_df"
   ]
  },
  {
   "cell_type": "code",
   "execution_count": null,
   "metadata": {},
   "outputs": [],
   "source": [
    "##adding row\n",
    "car_df.loc[-1] =['Merc A-Class' ,'Diamler']\n",
    "car_df"
   ]
  },
  {
   "cell_type": "code",
   "execution_count": null,
   "metadata": {},
   "outputs": [],
   "source": [
    "#modifying the index\n",
    "car_df.index = car_df.index+1\n",
    "car_df"
   ]
  },
  {
   "cell_type": "code",
   "execution_count": null,
   "metadata": {},
   "outputs": [],
   "source": [
    "#sorting index\n",
    "car_df.sort_index()\n",
    "car_df"
   ]
  },
  {
   "cell_type": "code",
   "execution_count": null,
   "metadata": {},
   "outputs": [],
   "source": [
    "car_df = car_df.sort_index()\n",
    "car_df"
   ]
  },
  {
   "cell_type": "code",
   "execution_count": null,
   "metadata": {},
   "outputs": [],
   "source": [
    "#dropping a row with it's index \n",
    "car_df = car_df.drop(car_df.index[5])\n",
    "car_df"
   ]
  },
  {
   "cell_type": "code",
   "execution_count": null,
   "metadata": {},
   "outputs": [],
   "source": [
    "indx_list = [2000 , 2005 , 2018 , 2014, 2010]\n",
    "car_df.index = indx_list\n",
    "car_df"
   ]
  },
  {
   "cell_type": "raw",
   "metadata": {},
   "source": []
  },
  {
   "cell_type": "code",
   "execution_count": null,
   "metadata": {},
   "outputs": [],
   "source": [
    "#reseting index - makes the current index as a new column with name 'index' and that can be delete via 'drop'\n",
    "car_df = car_df.reset_index()\n",
    "car_df"
   ]
  },
  {
   "cell_type": "code",
   "execution_count": null,
   "metadata": {},
   "outputs": [],
   "source": [
    "#dropping index column\n",
    "car_df = car_df.drop(columns = ['index'])\n",
    "car_df"
   ]
  },
  {
   "cell_type": "code",
   "execution_count": 10,
   "metadata": {},
   "outputs": [
    {
     "name": "stdout",
     "output_type": "stream",
     "text": [
      "unique symbols  --> 19\n",
      "['BAJFINANCE' 'SBIN' 'HINDUNILVR' 'ICICIBANK' 'TCS' 'SUNPHARMA' 'IGL'\n",
      " 'JUBLFOOD' 'TATAMOTORS' 'SPICEJET' 'INDIANB' 'AJANTPHARM' 'GANESHBE-X'\n",
      " 'DMART' 'IDFCFIRSTB' 'SREINFRA' 'ICICIPRULI' 'IDEA' 'INFRATEL']\n"
     ]
    }
   ],
   "source": [
    "# IMPORTANT -- CALCULATIONS ON DATAFRAME\n",
    "\n",
    "trade_df = pd.read_csv('datasets/RP7069.csv')\n",
    "\n",
    "#['price']\n",
    "x = trade_df[trade_df['trade_type']=='buy']['price']\n",
    "y = trade_df[trade_df['trade_type']=='sell']['price']\n",
    "\n",
    "\n",
    "#x = np.sum(trade_df[])\n",
    "#print(np.sum(x))\n",
    "#print(np.sum(y))\n",
    "x= trade_df['quantity']* trade_df['price']\n",
    "#type(x)\n",
    "#type(a)\n",
    "trade_df['cost'] = x\n",
    "\n",
    "\n",
    "a = trade_df[trade_df['trade_type']=='buy']\n",
    "b = trade_df[trade_df['trade_type']=='sell']\n",
    "buy = np.sum(a['cost'])\n",
    "sold= np.sum(b['cost'])\n",
    "\n",
    "\n",
    "print('unique symbols' ,' -->' , len(trade_df['tradingsymbol'].unique()))\n",
    "print(trade_df['tradingsymbol'].unique())\n",
    "\n",
    "#trade_df\n",
    "#print('Bought -' ,buy , 'SOLD' ,sold)\n",
    "#print('invested ' , (buy-sold))"
   ]
  },
  {
   "cell_type": "code",
   "execution_count": null,
   "metadata": {},
   "outputs": [],
   "source": []
  }
 ],
 "metadata": {
  "kernelspec": {
   "display_name": "Python 3",
   "language": "python",
   "name": "python3"
  },
  "language_info": {
   "codemirror_mode": {
    "name": "ipython",
    "version": 3
   },
   "file_extension": ".py",
   "mimetype": "text/x-python",
   "name": "python",
   "nbconvert_exporter": "python",
   "pygments_lexer": "ipython3",
   "version": "3.7.6"
  }
 },
 "nbformat": 4,
 "nbformat_minor": 4
}
